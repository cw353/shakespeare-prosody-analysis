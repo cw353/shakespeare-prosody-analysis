{
 "cells": [
  {
   "cell_type": "markdown",
   "id": "2db51325",
   "metadata": {},
   "source": [
    "# Prosodical Analysis of Shakespearean Sonnets\n",
    "\n",
    "## Introduction\n",
    "\n",
    "The objective of this project is to detect and investigate metrical irregularities and other prosodic patterns in English verse, using both manual and computational methods of analysis. By investigating these patterns, we can achieve a better understanding of how they contribute to the poetry's effect. \n",
    "\n",
    "As a case study, I will analyze the corpus of William Shakespeare's sonnets. As one of the greatest poets in the English language, Shakespeare composes poetry with a subtlety, eloquence, and mastery that make his sonnet corpus a fitting subject for study.\n",
    "\n",
    "In this report, I will first detail my process of scraping and correcting the corpus of Shakespeare's sonnets. Then I will explain how I parsed and scanned the corpus to encode it into a form that is more efficient and convenient for analysis. Finally, I will give some examples of the sorts of analysis that can be done on this corpus.\n",
    "\n",
    "```{contents}\n",
    "```"
   ]
  },
  {
   "cell_type": "markdown",
   "id": "b74c2324",
   "metadata": {},
   "source": [
    "## Initial Setup\n",
    "\n",
    "We begin by importing various Python libraries that will be used in this project:"
   ]
  },
  {
   "cell_type": "code",
   "execution_count": 1,
   "id": "0022dd2d",
   "metadata": {
    "tags": [
     "remove-output"
    ]
   },
   "outputs": [
    {
     "name": "stderr",
     "output_type": "stream",
     "text": [
      "2024-05-02 16:10:12.322028: I tensorflow/core/platform/cpu_feature_guard.cc:182] This TensorFlow binary is optimized to use available CPU instructions in performance-critical operations.\n",
      "To enable the following instructions: AVX2 FMA, in other operations, rebuild TensorFlow with the appropriate compiler flags.\n"
     ]
    }
   ],
   "source": [
    "# for web scraping\n",
    "from urllib.request import urlopen\n",
    "from bs4 import BeautifulSoup\n",
    "\n",
    "# for data encoding, manipulation, and display\n",
    "import json\n",
    "import numpy as np\n",
    "import pandas as pd\n",
    "from enum import IntFlag, auto\n",
    "\n",
    "# for pattern matching\n",
    "import re\n",
    "\n",
    "# for syllabification\n",
    "from eng_syl.syllabify import Syllabel\n",
    "\n",
    "# for visualization\n",
    "import matplotlib.pyplot as plt\n",
    "import seaborn as sns\n",
    "from scipy.stats import chisquare, chi2_contingency, binomtest\n",
    "from IPython.display import display, HTML"
   ]
  },
  {
   "cell_type": "markdown",
   "id": "c2d50b3c",
   "metadata": {},
   "source": [
    "We also define some constants that will be used throughout the project:"
   ]
  },
  {
   "cell_type": "code",
   "execution_count": 2,
   "id": "fdc1d81c",
   "metadata": {},
   "outputs": [],
   "source": [
    "N = 14 # maximum number of lines in a sonnet\n",
    "wordchars = re.compile(r'([a-zA-Z\\']+)') # regular expression defining word characters\n",
    "nonwordchars = re.compile(r'([^a-zA-Z\\']+)') # regular expression defining non-word characters\n",
    "syllabifier = Syllabel() # syllabifier used to split word tokens into component syllables"
   ]
  },
  {
   "cell_type": "markdown",
   "id": "46b36c0e",
   "metadata": {},
   "source": [
    "## Scraping the Corpus"
   ]
  },
  {
   "cell_type": "markdown",
   "id": "104877c6",
   "metadata": {},
   "source": [
    "The raw corpus of scanned sonnets was obtained from [Chris Aruffo's Prescanned Shakespeare project](http://prescannedshakespeare.aruffo.com/) and is used with the creator's kind permission. This corpus presented itself as ideal for this project because it already contains scansion information for all 154 sonnets.\n",
    "\n",
    "According to [Aruffo's website](http://prescannedshakespeare.aruffo.com/about/scansion.htm), the corpus text is \"based primarily on the First Folio and its punctuation.\" The spelling of all words is modernized except for \"ore\", \"ere\", \"nere\", \"eene\", and \"tane\", which represent monosyllabic equivalents of \"over\", \"ever\", \"never\", \"even\", and \"taken\".\n",
    "\n",
    "Both conceptually and structurally, we divide the corpus into `text` data, representing the actual text of the sonnets, and `scansion` data, representing the corresponding scansion information.\n",
    " \n",
    "We define some functions that we will use to scrape the sonnets from the web and do some preprocessing:"
   ]
  },
  {
   "cell_type": "code",
   "execution_count": 3,
   "id": "e8c730f8",
   "metadata": {
    "tags": [
     "hide-input"
    ]
   },
   "outputs": [],
   "source": [
    "# get all urls to scrape\n",
    "def get_urls():\n",
    "    urls = []\n",
    "    pref = 'http://prescannedshakespeare.aruffo.com/sonnets'\n",
    "    max_sonnet = 154\n",
    "    for i in range(0,11):\n",
    "        start = i*15 + 1\n",
    "        end = i*15 + 15 if i < 10 else max_sonnet    \n",
    "        j = 0\n",
    "        while j < 15 and start+j <= max_sonnet:\n",
    "            urls.append(f'{pref}/son{start:0>3}-{end:0>3}/son{start+j:0>3}.htm')\n",
    "            j += 1\n",
    "    return urls\n",
    "\n",
    "# process HTML page and extract the text and scansion of the sonnet therein\n",
    "def process_html(url, N):\n",
    "    soup = BeautifulSoup(urlopen(url).read().decode())\n",
    "    # find p element containing the sonnet\n",
    "    p = soup.code.p\n",
    "    while p.text == '\\xa0':\n",
    "        p = p.find_next()\n",
    "    contents = [x.text for x in p.contents if x.text != '' and x.text != '\\n']\n",
    "    scansions = []\n",
    "    texts = []\n",
    "    # extract a max of N lines each of scansion and text data from html\n",
    "    for i in range(max(len(contents), N)):\n",
    "        if i%2 == 0:\n",
    "            scansions.append(contents[i].replace('\\xa0',' ').replace('\\n','').replace('\\t','')[6:])\n",
    "        else:\n",
    "            texts.append(contents[i].replace('\\xa0',' ').replace('\\n','').replace('\\t','').replace(\n",
    "                '//','|').replace('/','|').replace('^',' ').replace('*','').replace('??','').rstrip()[6:])\n",
    "    # remove any extraneous data\n",
    "    texts = texts[:N]\n",
    "    scansions = scansions[:N]\n",
    "    n = len(texts)\n",
    "    if texts[n-1] == '':\n",
    "        texts = texts[:n-1]\n",
    "        scansions = scansions[:n-1]\n",
    "    return (texts, scansions)\n",
    "\n",
    "# read foot divisions from text data and mark them in the scansion data\n",
    "def mark_feet(texts, scansions):\n",
    "    n = len(texts)\n",
    "    # add foot marks to scansions\n",
    "    for i in range(n):\n",
    "        for j, c in enumerate(texts[i]):\n",
    "            if c == '|':\n",
    "                scansions[i] = scansions[i][:j] + c + scansions[i][j+1:]\n",
    "    # remove extra spaces around foot marks\n",
    "    for i in range(n):\n",
    "        k = 0\n",
    "        for m in re.finditer(pattern=r' \\| ', string=texts[i]):\n",
    "            j = m.start()-k\n",
    "            k+=1\n",
    "            texts[i] = texts[i][:j] + texts[i][j+1:]\n",
    "            scansions[i] = scansions[i][:j] + scansions[i][j+1:]\n",
    "    return (texts, scansions)"
   ]
  },
  {
   "cell_type": "markdown",
   "id": "8c87291f",
   "metadata": {},
   "source": [
    "Using these functions, we read each sonnet from the web and split it into `texts` (the actual text of the poem) and `raw_scansions` (the raw marks indicating how the poem should be scanned).\n",
    "\n",
    "Although the text of the sonnets includes marks indicating division into feet, the scansion does not. We remedy this situation by copying the foot division marks from the text to the scansion.\n",
    "\n",
    "Finally, we save the raw text and scansion data for each sonnet into a file called `sonnets-original.txt`."
   ]
  },
  {
   "cell_type": "code",
   "execution_count": 4,
   "id": "752d86eb",
   "metadata": {},
   "outputs": [],
   "source": [
    "urls = get_urls()\n",
    "with open('corpus/sonnets-original.txt', 'w') as f:\n",
    "    for j, url in enumerate(urls):\n",
    "        (text, raw_scansion) = process_html(url, N)\n",
    "        (text, raw_scansion) = mark_feet(text, raw_scansion)\n",
    "        for i in range(len(text)):\n",
    "            f.write(raw_scansion[i])\n",
    "            f.write('\\n')\n",
    "            f.write(text[i])\n",
    "            f.write('\\n')\n",
    "        f.write('\\n')"
   ]
  },
  {
   "cell_type": "markdown",
   "id": "06ad844c",
   "metadata": {},
   "source": [
    "We can then read the corpus from `sonnets-original.txt` into the variables `texts` and `raw_scansions`:"
   ]
  },
  {
   "cell_type": "code",
   "execution_count": 5,
   "id": "d1e2670b",
   "metadata": {},
   "outputs": [],
   "source": [
    "with open('corpus/sonnets-original.txt') as f:\n",
    "    raw = f.read().split('\\n\\n')\n",
    "\n",
    "texts = []\n",
    "raw_scansions = []\n",
    "\n",
    "for sonnet in raw:\n",
    "    s = []\n",
    "    t = []\n",
    "    for i, line in enumerate(sonnet.split('\\n')):\n",
    "        if i % 2 == 0:\n",
    "            s.append(line)\n",
    "        else:\n",
    "            t.append(line)\n",
    "    texts.append(t)\n",
    "    raw_scansions.append(s)"
   ]
  },
  {
   "cell_type": "markdown",
   "id": "d43b60d9",
   "metadata": {},
   "source": [
    "This diagram illustrates the current structure of the corpus, before any corrections or parsing have been done. Note how the structure is essentially a two-dimensional array, or a list of lists. Each list is annotated with its length, denoted with the variable $n$.\n",
    "\n",
    "![](diagrams/diagram_texts_preparse.png)"
   ]
  },
  {
   "cell_type": "markdown",
   "id": "ccc2256b",
   "metadata": {},
   "source": [
    "As this diagram shows, `texts` is a list of 154 sonnets. Each sonnet is itself a list of 14 lines, and each line is a string. (The vertical bar `|` marks foot divisions.)\n",
    "\n",
    "`raw_scansions` has a structure identical to this except that its lowest level consists not of lines but rather of custom scan marks encoding scansion information for the lines in `texts`. These scan marks are aligned with the corresponding text by whitespace. For example, the alternating scansion and text data for the first quatrain of Sonnet 18 looks like this:"
   ]
  },
  {
   "cell_type": "code",
   "execution_count": 6,
   "id": "4f06b77f",
   "metadata": {
    "scrolled": false
   },
   "outputs": [
    {
     "name": "stdout",
     "output_type": "stream",
     "text": [
      "  ,    |     ,  |   ,    |    , |       ,\n",
      "Shall I| compare| thee to| a sum|mer's day?\n",
      "  ,     |   ,    , |      |   ,    ,|\n",
      "Thou art| more love|ly and| more temp|erate:\n",
      "  T     T    .    T |        ,|       ,|      ,\n",
      "Rough winds do shake| the darl|ing buds| of May,\n",
      "     , |         , |       , |  T    T   .   T\n",
      "And sum|mer's lease| hath all| too short a date:\n"
     ]
    }
   ],
   "source": [
    "for sc, line in zip(raw_scansions[17][:4], texts[17][:4]):\n",
    "    print(sc)\n",
    "    print(line)"
   ]
  },
  {
   "cell_type": "markdown",
   "id": "a2cc1685",
   "metadata": {},
   "source": [
    "## Correcting the Corpus\n",
    "\n",
    "The raw scan marks in `raw_scansions` will provide the basis for the scansion of the fully parsed corpus. However, they still need to be corrected both manually and automatically, as well as encoded into a more computationally useful format. The following sections detail this process.\n",
    "\n",
    "### Manual Correction\n",
    "\n",
    "The scansion of Aruffo's raw corpus is based on a theory of mathematically equal feet, inspired by a similar approach taken by Edgar Allan Poe. Aruffo explains this theory in the article [\"Reconsidering Poe's 'Rationale of Verse'\"](https://doi.org/10.1111/j.1754-6095.2011.00037.x). Essentially, the theory holds that any line of metrically valid poetry can be scanned into a number of feet that are quantitatively equal in time.\n",
    "\n",
    "Although Aruffo's theory of prosody is intriguing, I have decided not to use it in this project. Instead, I have opted to follow a more traditional scansion scheme. Since the scan marks in the raw corpus are based on Aruffo's theory, I have applied a series of manual corrections to make the corpus conform more closely to traditional scansion.\n",
    "\n",
    "The original scansion data uses several different marks to denote stressed syllables: `,`, `_`, `x`, and `T`. Aruffo [defines these marks](http://prescannedshakespeare.aruffo.com/about/marks.htm) as follows:\n",
    "\n",
    "| Mark | Meaning | \n",
    "| --- | --- |\n",
    "| , | long syllable |\n",
    "| _ | extended, extra-long syllable |\n",
    "| x | short stress (where two short syllables create a single stress) |\n",
    "| T | syllable that is part of a double foot (made up of three long feet)|\n",
    "\n",
    "All of these marks have been manually standardized into a single stress mark, `,`. Additionally, unusually short or long feet, which are often associated with these marks, have been redistributed into more standard foot divisions. To assist with this task, I consulted [*The Oxford Dictionary of Shakespearean Pronunciation* by David Crystal](https://doi.org/10.1093/acref/9780199668427.001.0001) to gain a better idea of how the lines would be pronounced and scanned in their original context.\n",
    "\n",
    "Finally, the placement of a few of the scan marks has been standardized to make automatic parsing easier, and a few extraneous scan marks have been removed.\n",
    "\n",
    "The file `sonnets-handcorrected.txt` contains this manually corrected version of the corpus. We read this hand-corrected version into the variables `text` and `raw_scansions` (after saving copies of the original text and raw scansion data)."
   ]
  },
  {
   "cell_type": "code",
   "execution_count": 7,
   "id": "f8c673de",
   "metadata": {},
   "outputs": [],
   "source": [
    "# save original scansion and text data\n",
    "(original_raw_scansions, original_texts) = (raw_scansions, texts)\n",
    "\n",
    "with open('corpus/sonnets-handcorrected.txt') as f:\n",
    "    raw = f.read().split('\\n\\n')\n",
    "\n",
    "texts = []\n",
    "raw_scansions = []\n",
    "\n",
    "for sonnet in raw:\n",
    "    s = []\n",
    "    t = []\n",
    "    for i, line in enumerate(sonnet.split('\\n')):\n",
    "        if i % 2 == 0:\n",
    "            s.append(line)\n",
    "        else:\n",
    "            t.append(line)\n",
    "    texts.append(t)\n",
    "    raw_scansions.append(s)"
   ]
  },
  {
   "cell_type": "markdown",
   "id": "f8dff080",
   "metadata": {},
   "source": [
    "As an example of the manual corrections that have been now been made to the corpus, here is a side-by-side comparison of the original and hand-corrected versions of Sonnet 18. Note how the stress marks and foot divisions have been standardized."
   ]
  },
  {
   "cell_type": "code",
   "execution_count": 8,
   "id": "3c7620e7",
   "metadata": {
    "tags": [
     "full-width"
    ]
   },
   "outputs": [
    {
     "name": "stdout",
     "output_type": "stream",
     "text": [
      "ORIGINAL VERSION                                       \t\tHAND-CORRECTED VERSION\n",
      "\n",
      "  ,    |     ,  |   ,    |    , |       ,              \t\t  ,    |     ,  |   ,    |    , |       ,\n",
      "Shall I| compare| thee to| a sum|mer's day?            \t\tShall I| compare| thee to| a sum|mer's day?\n",
      "  ,     |   ,    , |      |   ,    ,|                  \t\t  ,     |   ,    , |      |   ,    ,|\n",
      "Thou art| more love|ly and| more temp|erate:           \t\tThou art| more love|ly and| more temp|erate:\n",
      "  T     T    .    T |        ,|       ,|      ,        \t\t  ,     ,  |       , |        ,|       ,|      ,\n",
      "Rough winds do shake| the darl|ing buds| of May,       \t\tRough winds| do shake| the darl|ing buds| of May,\n",
      "     , |         , |       , |  T    T   .   T         \t\t     , |         , |       , |  ,    ,  |     ,\n",
      "And sum|mer's lease| hath all| too short a date:       \t\tAnd sum|mer's lease| hath all| too short| a date:\n",
      "  T   T   T |  ,     |  T   .   Tx      T              \t\t  ,   , |  ,   , |      , |  .   ,|       ,\n",
      "Sometime too| hot the| eye of heaven shines,           \t\tSometime| too hot| the eye| of hea|ven shines,\n",
      "     ,|     ,|       , |      , |       ,              \t\t     ,|     ,|       , |      , |       ,\n",
      "And of|ten is| his gold| complex|ion dimmed,           \t\tAnd of|ten is| his gold| complex|ion dimmed,\n",
      "     , |     , |         ,|    T   T   .   T           \t\t     , |     , |         ,|    ,   ,|      ,\n",
      "And eve|ry fair| from fair| sometime  declines,        \t\tAnd eve|ry fair| from fair| sometime| declines,\n",
      "      ,   |     ,|         ,  |       ,  |      ,      \t\t      ,   |     ,|         ,  |       ,  |      ,\n",
      "By chance,| or na|ture's chang|ing course| untrimmed:  \t\tBy chance,| or na|ture's chang|ing course| untrimmed:\n",
      "     , |    , |      x  |   T    T    T                \t\t     , |    , |    , |      ,  |  ,    ,\n",
      "But thy| etern|al summer| shall not fade,              \t\tBut thy| etern|al sum|mer shall| not fade,\n",
      "      , |      , |     ,|        , |        ,          \t\t      , |      , |     ,|        , |        ,\n",
      "Nor lose| possess|ion of| that fair| thou owst,        \t\tNor lose| possess|ion of| that fair| thou owst,\n",
      "       , |    T    T     T|    ,    |    2      ,      \t\t       , |    ,    , |    ,   , |       |        ,\n",
      "Nor shall| death brag thou| wanderst| in his shade,    \t\tNor shall| death brag| thou wand|erst in| his shade,\n",
      "      ,|    , |     ,  |      , |         ,            \t\t      ,|    , |     ,  |      , |         ,\n",
      "When in| etern|al lines| to time| thou growst,         \t\tWhen in| etern|al lines| to time| thou growst,\n",
      "     , |     , |        ,    |      , |      ,         \t\t     , |     , |        ,    |      , |      ,\n",
      "So long| as men| can breathe,| or eyes| can see,       \t\tSo long| as men| can breathe,| or eyes| can see,\n",
      " .   T    T     T  |  .    T    T     T |      ,       \t\t     , |   ,     ,  |       , |   ,     , |      ,\n",
      "So long lives this,| and this gives life| to thee.     \t\tSo long| lives this,| and this| gives life| to thee.\n"
     ]
    }
   ],
   "source": [
    "print('ORIGINAL VERSION'.ljust(55, ' '), end='\\t\\t')\n",
    "print('HAND-CORRECTED VERSION', end='\\n\\n')\n",
    "for sc1, sc2, line1, line2 in zip(original_raw_scansions[17], raw_scansions[17], original_texts[17], texts[17]):\n",
    "    print(sc1.ljust(55, ' '), end='\\t\\t')\n",
    "    print(sc2)\n",
    "    print(line1.ljust(55, ' '), end='\\t\\t')\n",
    "    print(line2)"
   ]
  },
  {
   "cell_type": "markdown",
   "id": "4e1d17f7",
   "metadata": {},
   "source": [
    "### Automatic Correction\n",
    "\n",
    "The next step is to make automatic corrections – corrections that can be applied computationally by using algorithms and pattern matching — to the scansion corpus.\n",
    "\n",
    "The reason that algorithmic corrections are necessary is because of a concept that I refer to as *prosodical flexibility*. In English (and especially in Shakespearean English), certain morphological units can be scanned in different ways depending on the constraints of the meter. For example, consider the word \"buried\" in Sonnet 31:"
   ]
  },
  {
   "cell_type": "code",
   "execution_count": 9,
   "id": "ce8c9470",
   "metadata": {},
   "outputs": [
    {
     "name": "stdout",
     "output_type": "stream",
     "text": [
      "Line 4: And all| those friends| which I| thought bur|ied.\n",
      "Line 9: Thou art| the grave| where bur|ied love| doth live,\n"
     ]
    }
   ],
   "source": [
    "for i, line in enumerate(texts[30]):\n",
    "    if 'buried' in line.replace('|',''):\n",
    "        print(f'Line {i+1}: {line}')"
   ]
  },
  {
   "cell_type": "markdown",
   "id": "473b7091",
   "metadata": {},
   "source": [
    "In line 4, the constraints of the meter encourage us to pronounce the past participle ending \"-ed\" in the word \"buried\" as a separate syllable (so the entire word is scanned as three syllables, \"bur-i-ed\"). In line 9, on the other hand, the \"-ed\" ending is not pronounced as a separate syllable (so the entire word is scanned as two syllables, \"bur-ied\").\n",
    "\n",
    "This past participle ending is thus an example of a morphological unit that is prosodically flexible. Depending on how the rest of the line is scanned, a prosodically flexible unit can either be pronounced as a separate syllable or collapsed into the preceding or following syllables.\n",
    "\n",
    "As another example, consider the word \"heaven\" in Sonnet 21:"
   ]
  },
  {
   "cell_type": "code",
   "execution_count": 10,
   "id": "b38e7299",
   "metadata": {},
   "outputs": [
    {
     "name": "stdout",
     "output_type": "stream",
     "text": [
      "Line 3: Who heaven| itself| for orn|ament| doth use\n",
      "Line 8: That heav|en's air| in this| huge rond|ure hems.\n",
      "Line 12: As those| gold cand|les fixed| in heav|en's air:\n"
     ]
    }
   ],
   "source": [
    "for i, line in enumerate(texts[20]):\n",
    "    if 'heaven' in line.replace('|',''):\n",
    "        print(f'Line {i+1}: {line}')"
   ]
  },
  {
   "cell_type": "markdown",
   "id": "d20f70a0",
   "metadata": {},
   "source": [
    "In line 3, the word \"heaven\" is compressed into a single syllable, while in lines 8 and 12, it takes up two syllables. The word \"heaven\" is thus also prosodically flexible.\n",
    "\n",
    "These prosodically flexible units are not always marked as such in the raw scansion data. But marking them all by hand would be both inefficient and error-prone. As a result, this is an ideal opportunity to apply automatic correction.\n",
    "\n",
    "We can use regular expressions — specialized expressions used for pattern matching in strings — to identify patterns of characters that are likely to be prosodically flexible. Then we can add a special scan mark, `?`, to the scansion data for all instances of these patterns to mark them as prosodically flexible. Specifically, this mark will be used to annotate units that can be pronounced as zero or one syllables. In the code, these are referred to as `flex_minus` syllables (because they can be subtracted from the total syllable count as necessary).\n",
    "\n",
    "Slightly complicating the situation, however, is the fact that we will be using a machine learning model to break apart words (or parts of words) into syllables. This syllabifier does not always recognize prosodically flexible units as separate syllables. For example, the model syllabifies the ending \"-ied\" into a single syllable rather than two:"
   ]
  },
  {
   "cell_type": "code",
   "execution_count": 11,
   "id": "cdba9528",
   "metadata": {},
   "outputs": [
    {
     "data": {
      "text/plain": [
       "'ied'"
      ]
     },
     "execution_count": 11,
     "metadata": {},
     "output_type": "execute_result"
    }
   ],
   "source": [
    "syllabifier.syllabify('ied').lower()"
   ]
  },
  {
   "cell_type": "markdown",
   "id": "9a8da070",
   "metadata": {},
   "source": [
    "We cannot simply mark such cases as `flex_minus`. Instead, we will treat them as a separate category of prosodically flexible units that can be pronounced as either one or two syllables. These units will be marked with the symbol `+` and referred to as `flex_plus` in the code (because they can be added to the total syllable count if necessary).\n",
    "\n",
    "We begin by defining regular expressions for the `flex_minus` and `flex_plus` categories, as well as a function to apply the annotation. For this step, as with the previous one, *The Oxford Dictionary of Shakespearean Pronunciation* served as a valuable reference."
   ]
  },
  {
   "cell_type": "code",
   "execution_count": 12,
   "id": "7e77a85e",
   "metadata": {
    "tags": [
     "hide-input"
    ]
   },
   "outputs": [],
   "source": [
    "# handle syllables with flexible stress (that is, syllables that can be\n",
    "# pronounced separately or collapsed into each other depending on the meter)\n",
    "# (note that we need to specify two offsets so that, if there is already a\n",
    "# scan mark at the first offset, we can place the new mark at the second offset)\n",
    "\n",
    "# regex for patterns that tend to be syllabified as multiple syllables but can be collapsed together\n",
    "# along with two offsets, either of which can be used to mark these syllables as flexible\n",
    "flex_minus = [\n",
    "    [re.compile(r'uels?\\b'), 0, 1],\n",
    "    [re.compile(r'ials?\\b'), 0, 1],\n",
    "    [re.compile(r'iars?\\b'), 0, 1],\n",
    "    [re.compile(r'ires?\\b'), 0, 2],\n",
    "    [re.compile(r'ians?\\b'), 0, 1],\n",
    "    [re.compile(r'iest\\b'), 0, 1],\n",
    "    [re.compile(r'ient?\\b'), 0, 1],\n",
    "    [re.compile(r'ienc[ey]\\b'), 0, 1],\n",
    "    [re.compile(r'ying\\b'), 0, 1],\n",
    "    [re.compile(r'eous\\b'), 0, 1],\n",
    "    [re.compile(r'iousl?y?\\b'), 0, 1],\n",
    "    [re.compile(r'uous\\b'), 0, 1],\n",
    "    [re.compile(r'oners?\\b'), 0, 2],\n",
    "    [re.compile(r'erers?\\b'), 0, 2],\n",
    "    [re.compile(r'owers?\\b'), 0, 2],\n",
    "    [re.compile(r'ours?\\b'), 0, 2],\n",
    "    [re.compile(r'ions?\\b'), 0, 1],\n",
    "    [re.compile(r'uals?\\b'), 0, 1],\n",
    "    [re.compile(r'ually\\b'), 0, 1],\n",
    "    [re.compile(r'iers?\\b'), 0, 1],\n",
    "    [re.compile(r'iors?\\b'), 0, 1],\n",
    "    [re.compile(r'ery\\b'), 0, 2],\n",
    "    [re.compile(r'erims?\\b'), 0, 2],\n",
    "    [re.compile(r'erent\\b'), 0, 2],\n",
    "    [re.compile(r'erances?\\b'), 0, 2],\n",
    "    [re.compile(r'ewels?\\b'), 0, 2],\n",
    "    [re.compile(r'ayers?\\b'), 0, 2],\n",
    "    [re.compile(r'erous\\b'), 0, 2],\n",
    "    [re.compile(r'erously\\b'), 0, 2],\n",
    "    [re.compile(r'erate\\b'), 0, 2],\n",
    "    [re.compile(r'e[rn]ings?\\b'), 0, 2],\n",
    "    [re.compile(r'o[rn]ings?\\b'), 0, 2],\n",
    "    [re.compile(r'iven\\b'), 0, 2],\n",
    "    [re.compile(r'\\beven\\b', re.IGNORECASE), 0, 2],\n",
    "    [re.compile(r'\\bbeing\\b', re.IGNORECASE), 1, 2],\n",
    "    [re.compile(r'\\bcreat\\|?ure', re.IGNORECASE), 2,3],\n",
    "    [re.compile(r'\\bheaven', re.IGNORECASE), 1,4],\n",
    "    [re.compile(r'\\bspirit\\b', re.IGNORECASE), 1,4],\n",
    "    [re.compile(r'\\btowards?\\b', re.IGNORECASE), 1,3],\n",
    "    [re.compile(r'\\bthe\\s[aeiou]', re.IGNORECASE), 2,4],\n",
    "    [re.compile(r'\\bis it\\b', re.IGNORECASE), 3,4],\n",
    "]\n",
    "\n",
    "# regex for patterns that tend not to be syllabified as separate but can be expanded into a separate syllable\n",
    "# along with two offsets, either of which can be used to mark these syllables as flexible\n",
    "flex_plus = [\n",
    "    [re.compile(r'[abcdfghijklmnopqrstuvwxyz]ed\\b', re.IGNORECASE), 1, 2]\n",
    "]\n",
    "\n",
    "def mark_flex(line, scanmarks, patterns, marker):\n",
    "    for pattern, first_offset, second_offset in iter(patterns):\n",
    "        it = re.finditer(pattern, line)\n",
    "        for m in it:\n",
    "            start = m.start()\n",
    "            rslen = len(scanmarks)\n",
    "            if rslen <= start + second_offset:\n",
    "                scanmarks = scanmarks + (' ' * (start + second_offset - rslen + 1))\n",
    "            if scanmarks[start + first_offset] == ' ':\n",
    "                offset = first_offset\n",
    "            elif scanmarks[start + second_offset] == ' ':\n",
    "                offset = second_offset\n",
    "            else:\n",
    "                offset = -1\n",
    "            if offset < 0:\n",
    "                print(f'error: neither offset is available for line', line)\n",
    "            else:\n",
    "                scanmarks = scanmarks[:(start + offset)] + marker + scanmarks[(start + offset + 1):]\n",
    "    return scanmarks"
   ]
  },
  {
   "cell_type": "markdown",
   "id": "80938908",
   "metadata": {},
   "source": [
    "Next, we perform the actual annotation."
   ]
  },
  {
   "cell_type": "code",
   "execution_count": 13,
   "id": "5ae7ecae",
   "metadata": {},
   "outputs": [],
   "source": [
    "# mark the scansion for each flexible syllable with '?'\n",
    "for s, sonnet in enumerate(texts):\n",
    "    for l, line in enumerate(sonnet):\n",
    "        raw_scansions[s][l] = mark_flex(line, raw_scansions[s][l], flex_minus, '?')\n",
    "        raw_scansions[s][l] = mark_flex(line, raw_scansions[s][l], flex_plus, '+')"
   ]
  },
  {
   "cell_type": "markdown",
   "id": "9211a86b",
   "metadata": {},
   "source": [
    "Finally, we save this automatically corrected version of the corpus to another file, called `sonnets-autocorrected.txt`."
   ]
  },
  {
   "cell_type": "code",
   "execution_count": 14,
   "id": "a3a0fe62",
   "metadata": {},
   "outputs": [],
   "source": [
    "with open('corpus/sonnets-autocorrected.txt', 'w') as f:\n",
    "    for s in range(len(texts)):\n",
    "        for l in range(len(texts[s])):\n",
    "            f.write(raw_scansions[s][l])\n",
    "            f.write('\\n')\n",
    "            f.write(texts[s][l])\n",
    "            f.write('\\n')\n",
    "        f.write('\\n')"
   ]
  },
  {
   "cell_type": "markdown",
   "id": "baec43b7",
   "metadata": {},
   "source": [
    "## Parsing and Scanning the Corpus"
   ]
  },
  {
   "cell_type": "markdown",
   "id": "ba4d7c1f",
   "metadata": {},
   "source": [
    "Now that we have finished correcting the corpus, we can begin the process of parsing and scanning it into a form that will be more convenient and efficient to work with.\n",
    "\n",
    "### Division into Metrical Feet\n",
    "\n",
    "Our first step is to split `text` and `raw_scansions` apart into metrical feet using the following function:"
   ]
  },
  {
   "cell_type": "code",
   "execution_count": 15,
   "id": "ea25b393",
   "metadata": {},
   "outputs": [],
   "source": [
    "def split_feet(texts, scansions):\n",
    "    return (\n",
    "        [[line.split('|') for line in sonnet] for sonnet in texts],\n",
    "        [[line.split('|') for line in sonnet] for sonnet in scansions]\n",
    "    )"
   ]
  },
  {
   "cell_type": "code",
   "execution_count": 16,
   "id": "5bd2a78b",
   "metadata": {},
   "outputs": [],
   "source": [
    "(texts, raw_scansions) = split_feet(texts, raw_scansions)"
   ]
  },
  {
   "cell_type": "markdown",
   "id": "c34b7d62",
   "metadata": {},
   "source": [
    "The two-dimensional `texts` and `raw_scansions` arrays have now become three-dimensional, since each line is now a list of feet. The corpus is now a list of 154 sonnets, each of which is a list of 14 lines, each of which is a list of 4 or 5 feet, each of which is a string. (The number of feet is variable because Sonnet 145 is in tetrameter.)\n",
    "\n",
    "The diagram below illustrates this updated corpus structure for `texts`.\n",
    "\n",
    "![](diagrams/diagram_texts_feet.png)"
   ]
  },
  {
   "cell_type": "markdown",
   "id": "9514f4e3",
   "metadata": {},
   "source": [
    "### Tokenization\n",
    "\n",
    "Next, we split each foot in `texts` into separate *tokens* (a process known as *tokenization*). In natural language processing, a token is a semantically distinct unit of text. For the purposes of this study, a token is either a *word token* consisting of any number of consecutive alphabetic characters (and possibly apostrophes) or a *non-word token* consisting of any number of punctuation marks, spaces, and other non-alphabetic characters.\n",
    "\n",
    "We tokenize the text using the following function:"
   ]
  },
  {
   "cell_type": "code",
   "execution_count": 17,
   "id": "336df6d8",
   "metadata": {},
   "outputs": [],
   "source": [
    "def tokenize(sonnet, wordchars):\n",
    "    tokens = [None for i in sonnet]\n",
    "    for i in range(len(sonnet)):\n",
    "        feet = []\n",
    "        for foot in sonnet[i]:\n",
    "            feet.append([token for token in re.split(pattern=wordchars, string=foot) if token != \"\"])\n",
    "        tokens[i] = feet\n",
    "    return tokens"
   ]
  },
  {
   "cell_type": "code",
   "execution_count": 18,
   "id": "e3c607e5",
   "metadata": {},
   "outputs": [],
   "source": [
    "texts = [tokenize(sonnet, nonwordchars) for sonnet in texts]"
   ]
  },
  {
   "cell_type": "markdown",
   "id": "e10824b7",
   "metadata": {},
   "source": [
    "The three-dimensional `texts` array has now become four-dimensional, since each foot is now a list of tokens. Each array is a list of 154 sonnets, and each sonnet is a list of 14 lines. Each line is a list of 4 or 5 feet, and each foot is a list of tokens of variable length. Note that the structure of `raw_scansions`, however, has not changed.\n",
    "\n",
    "The diagram below illustrates this updated corpus structure for `texts`.\n",
    "\n",
    "![](diagrams/diagram_texts_tokens.png)"
   ]
  },
  {
   "cell_type": "markdown",
   "id": "264f7b1a",
   "metadata": {},
   "source": [
    "### Syllabification\n",
    "\n",
    "Next, we split the word tokens apart into separate syllables using a GRU-based neural network model from the [`eng-syl` project](https://pypi.org/project/eng-syl/). The model was trained on [Wikimorph data](https://link.springer.com/chapter/10.1007/978-3-030-78270-2_72) and is intended for use as an English syllabifier.\n",
    "\n",
    "Although the model performs reasonably well on our sonnet corpus, it makes some obvious errors. For example, it syllabifies the word \"anew\" as one syllable instead of two:"
   ]
  },
  {
   "cell_type": "code",
   "execution_count": 19,
   "id": "e52cf877",
   "metadata": {},
   "outputs": [
    {
     "data": {
      "text/plain": [
       "'anew'"
      ]
     },
     "execution_count": 19,
     "metadata": {},
     "output_type": "execute_result"
    }
   ],
   "source": [
    "syllabifier.syllabify('anew').lower()"
   ]
  },
  {
   "cell_type": "markdown",
   "id": "588562a2",
   "metadata": {},
   "source": [
    "Many of these errors happen in cases where the model is being asked to syllabify parts of words rather than entire words. This occurs because we are syllabifying tokens rather than words, and some words have been broken up into multiple tokens (for example, because they cross foot boundaries or contain hyphens).\n",
    "\n",
    "For example, the model struggles to correctly syllabify the token \"ny\", which occurs as a part of words such as \"many\":"
   ]
  },
  {
   "cell_type": "code",
   "execution_count": 20,
   "id": "73230147",
   "metadata": {},
   "outputs": [
    {
     "data": {
      "text/plain": [
       "'n-y'"
      ]
     },
     "execution_count": 20,
     "metadata": {},
     "output_type": "execute_result"
    }
   ],
   "source": [
    "syllabifier.syllabify('ny').lower()"
   ]
  },
  {
   "cell_type": "markdown",
   "id": "45d54f91",
   "metadata": {},
   "source": [
    "We can identify and correct many of these syllabification errors using the regular expressions defined below. Once again, *The Oxford Dictionary of Shakespearean Pronunciation* served as a reference for this process."
   ]
  },
  {
   "cell_type": "code",
   "execution_count": 21,
   "id": "ba5a4cdf",
   "metadata": {
    "tags": [
     "hide-input"
    ]
   },
   "outputs": [],
   "source": [
    "syl_corrections = [\n",
    "    [re.compile(r'^(what)(ere)$', re.IGNORECASE), r'\\1-\\2'],\n",
    "    [re.compile(r'^(so)(ev)$', re.IGNORECASE), r'\\1-\\2'],\n",
    "    [re.compile(r'^(ob)(se)$', re.IGNORECASE), r'\\1-\\2'],\n",
    "    [re.compile(r'^(cell)(ent)$', re.IGNORECASE), r'\\1-\\2'],\n",
    "    [re.compile(r'^(qui)(ty)$', re.IGNORECASE), r'\\1-\\2'],\n",
    "    [re.compile(r'^(a)(new)$', re.IGNORECASE), r'\\1-\\2'],\n",
    "    [re.compile(r'^(in)(her)$', re.IGNORECASE), r'\\1-\\2'],\n",
    "    [re.compile(r'^(ist)(er)$', re.IGNORECASE), r'\\1-\\2'],\n",
    "    [re.compile(r'^(form)(edst)$', re.IGNORECASE), r'\\1-\\2'],\n",
    "    [re.compile(r'^(ann)(y)$', re.IGNORECASE), r'\\1-\\2'],\n",
    "    [re.compile(r'^(aint)(y)$', re.IGNORECASE), r'\\1-\\2'],\n",
    "    [re.compile(r'^(imp)(ed)$', re.IGNORECASE), r'\\1-\\2'],\n",
    "    [re.compile(r'^(qui)(e)$', re.IGNORECASE), r'\\1-\\2'],\n",
    "    [re.compile(r'^(ann)(ous)$', re.IGNORECASE), r'\\1-\\2'],\n",
    "    [re.compile(r'^(who)(ev)$', re.IGNORECASE), r'\\1-\\2'],\n",
    "    [re.compile(r'^(per)(pe)$', re.IGNORECASE), r'\\1-\\2'],\n",
    "    [re.compile(r'^(a)(cy)$', re.IGNORECASE), r'\\1-\\2'],\n",
    "    [re.compile(r'^(in)(ate)$', re.IGNORECASE), r'\\1-\\2'],\n",
    "    [re.compile(r'^(grac)(ious)$', re.IGNORECASE), r'\\1-\\2'],\n",
    "    [re.compile(r'^(ti)(cate)$', re.IGNORECASE), r'\\1-\\2'],\n",
    "    [re.compile(r'^(in)(ar)$', re.IGNORECASE), r'\\1-\\2'],\n",
    "    [re.compile(r'^(wher)(ev)$', re.IGNORECASE), r'\\1-\\2'],\n",
    "    [re.compile(r'^(ic)(es)$', re.IGNORECASE), r'\\1-\\2'],\n",
    "    [re.compile(r'^(ac)(cus)$', re.IGNORECASE), r'\\1-\\2'],\n",
    "    [re.compile(r'^(ac)(le)$', re.IGNORECASE), r'\\1-\\2'],\n",
    "    [re.compile(r'^(a)(chieve)$', re.IGNORECASE), r'\\1-\\2'],\n",
    "    [re.compile(r'^(fic)(es)$', re.IGNORECASE), r'\\1-\\2'],\n",
    "    [re.compile(r'^(ic)(at)$', re.IGNORECASE), r'\\1-\\2'],\n",
    "    [re.compile(r'^(ic)(le)$', re.IGNORECASE), r'\\1-\\2'],\n",
    "    [re.compile(r'^(pen)(ance)$', re.IGNORECASE), r'\\1-\\2'],\n",
    "    [re.compile(r'^(an)(ny)$', re.IGNORECASE), r'\\1-\\2'],\n",
    "    [re.compile(r'^(ac)(cum)$', re.IGNORECASE), r'\\1-\\2'],\n",
    "    [re.compile(r'^([ai]c)(y)$', re.IGNORECASE), r'\\1-\\2'],\n",
    "    [re.compile(r'^(ic)(ine)$', re.IGNORECASE), r'\\1-\\2'],\n",
    "    [re.compile(r'^(who)(ere)$', re.IGNORECASE), r'\\1-\\2'],\n",
    "    [re.compile(r'^(re)(ve)$', re.IGNORECASE), r'\\1-\\2'],\n",
    "    [re.compile(r'^(tre)-(as)$', re.IGNORECASE), r'\\1\\2'],\n",
    "    [re.compile(r'^(n)-(a)$', re.IGNORECASE), r'\\1\\2'],\n",
    "    [re.compile(r'^(e)-(a)$', re.IGNORECASE), r'\\1\\2'],\n",
    "    [re.compile(r'^(a)-(c)$', re.IGNORECASE), r'\\1\\2'],\n",
    "    [re.compile(r'^(ri)-(age)$', re.IGNORECASE), r'\\1\\2'],\n",
    "    [re.compile(r'^(i)-(l)-(l)(a)$', re.IGNORECASE), r'\\1\\2\\3-\\4'],\n",
    "    [re.compile(r'^(n)-(y)$', re.IGNORECASE), r'\\1\\2'],\n",
    "    [re.compile(r'^(u)-(t)$', re.IGNORECASE), r'\\1\\2'],\n",
    "    [re.compile(r'^(re)-(as)$', re.IGNORECASE), r'\\1\\2'],\n",
    "    [re.compile(r'^(tir)-(ed)$', re.IGNORECASE), r'\\1\\2'],\n",
    "    [re.compile(r'^(pho)-(en)$', re.IGNORECASE), r'\\1\\2'],\n",
    "    [re.compile(r'^(a)-(c)(quian)$', re.IGNORECASE), r'\\1\\2-\\3'],\n",
    "    [re.compile(r'^(i)-(c)$', re.IGNORECASE), r'\\1\\2'],\n",
    "    [re.compile(r'^(di)-(v)-(id)$', re.IGNORECASE), r'\\1\\2-\\3'],\n",
    "    [re.compile(r'^(a)-(d)-(d)(i)$', re.IGNORECASE), r'\\1\\2\\3-\\4'],\n",
    "    [re.compile(r'^(he)-(res)$', re.IGNORECASE), r'\\1\\2'],\n",
    "    [re.compile(r'^(to)-(r)-(ies)$', re.IGNORECASE), r'\\1\\2-\\3'],\n",
    "    [re.compile(r'^(e)-(x)-(trem)$', re.IGNORECASE), r'\\1\\2-\\3'],\n",
    "    [re.compile(r'^(be)-(lov)-(ed)$', re.IGNORECASE), r'\\1-\\2\\3'],\n",
    "    [re.compile(r'^(se)-(c)-(rate)$', re.IGNORECASE), r'\\1\\2-\\3'],\n",
    "    [re.compile(r'^(in)-(cre)-(as)$', re.IGNORECASE), r'\\1-\\2\\3'],\n",
    "    [re.compile(r'^(a)-(di)-(eu)$', re.IGNORECASE), r'\\1-\\2\\3'],\n",
    "    [re.compile(r'^(lo)-(m)-(el)$', re.IGNORECASE), r'\\1-\\2\\3'],\n",
    "    [re.compile(r'^(e)-(n)-(ance)$', re.IGNORECASE), r'\\1\\2-\\3'],\n",
    "    [re.compile(r'^(de)-(s)-(pis)$', re.IGNORECASE), r'\\1\\2-\\3'],\n",
    "    [re.compile(r'^(ti)-(red)$', re.IGNORECASE), r'\\1\\2'],\n",
    "    [re.compile(r'^(de)-(si)-(red)$', re.IGNORECASE), r'\\1-\\2\\3'],\n",
    "    [re.compile(r'^(pe)-(t)-(u)-(al)$', re.IGNORECASE), r'\\1\\2-\\2-\\3'],\n",
    "    [re.compile(r'^(e)-(x)(pi)-(red)$', re.IGNORECASE), r'\\1\\2-\\3\\4'],\n",
    "]"
   ]
  },
  {
   "cell_type": "markdown",
   "id": "5ae321d3",
   "metadata": {},
   "source": [
    "We can use the following functions to perform the actual syllabification, checking for and correcting the errors along the way:"
   ]
  },
  {
   "cell_type": "code",
   "execution_count": 22,
   "id": "da0d87d1",
   "metadata": {},
   "outputs": [],
   "source": [
    "def syllabify(token, syllabifier):\n",
    "    # syllabify token with apostrophes removed\n",
    "    syllabified = syllabifier.syllabify(token.lower().replace('\\'', ''))\n",
    "    # manually correct certain syllabifications\n",
    "    for pattern, replacement in syl_corrections:\n",
    "        syllabified = pattern.sub(replacement, syllabified)\n",
    "    # split syllables into list\n",
    "    syllabified = syllabified.split('-')\n",
    "    # use syllabified to separate the original token into syllables\n",
    "    syls = []\n",
    "    n = len(syllabified)\n",
    "    start = end = 0\n",
    "    for i in range(n):\n",
    "        if i == n-1:\n",
    "            syls.append(token[start:])\n",
    "        else:\n",
    "            end = start + len(syllabified[i])\n",
    "            syls.append(token[start:end])\n",
    "            start = end\n",
    "    return syls\n",
    "\n",
    "def syllabify_foot(foot, syllabifier, nonwordchars):\n",
    "    newfoot = []\n",
    "    for token in foot:\n",
    "        if not re.match(nonwordchars, token):\n",
    "            newfoot += syllabify(token, syllabifier)\n",
    "        else:\n",
    "            newfoot.append(token)\n",
    "    return newfoot"
   ]
  },
  {
   "cell_type": "code",
   "execution_count": 23,
   "id": "9023e5be",
   "metadata": {},
   "outputs": [],
   "source": [
    "for sonnet in texts:\n",
    "    for line in sonnet:\n",
    "        for j, foot in enumerate(line):\n",
    "            line[j] = syllabify_foot(foot, syllabifier, nonwordchars)"
   ]
  },
  {
   "cell_type": "markdown",
   "id": "ab474bb2",
   "metadata": {},
   "source": [
    "Each word token has now been split into separate syllables (which are each considered a word token). As a result, each foot is now a list of syllables and non-word tokens, listed in the order in which they occur in the original text.\n",
    "\n",
    "The diagram below shows these changes to the corpus. Note the dimensions of `texts` have not changed; the only change is that some of the feet lists have become longer because their component word tokens have been broken up into syllables.\n",
    "\n",
    "![](diagrams/diagram_texts_syl.png)"
   ]
  },
  {
   "cell_type": "markdown",
   "id": "f61a4845",
   "metadata": {},
   "source": [
    "### Scansion\n",
    "\n",
    "The next step is to parse the raw scansion marks into a more usable and efficient form. The goal is to encode the scansion information into a form that is efficient and easy to store and analyze.\n",
    "\n",
    "With this in mind, I have chosen to use *bitwise flags* to encode the scansion information. Bitwise flags are variables where each bit corresponds to a Boolean value (true or false). Because these Booleans are encoded at the bit level, this allows us to compactly store information. Additionally, we can work efficiently with these values by using *bitwise operations* that are designed to operate at the bit level.\n",
    "\n",
    "For this project, we will use Python's built-in `IntFlag` class, which allows us to define enumerated constants that can be combined into bitwise flags and have integer values. We define our `Scansion` class as follows:"
   ]
  },
  {
   "cell_type": "code",
   "execution_count": 24,
   "id": "19c107f8",
   "metadata": {},
   "outputs": [],
   "source": [
    "class Scansion(IntFlag):\n",
    "    UNSPEC = 0 # unspecified/unknown\n",
    "    SYL = 1 # syllable from a word token\n",
    "    STR = 2 # stressed syllable\n",
    "    # flexible syllable that can be collapsed into the preceding or following syllable (treated as one or zero syllables)\n",
    "    FLEX_MINUS = 4\n",
    "    # flexible syllable that can be expanded into two syllables (can be treated as one or two syllables)\n",
    "    FLEX_PLUS = 8\n",
    "    PUNCT = 16 # token that contains punctuation\n",
    "    HYPHEN = 32 # token that is a single hyphen\n",
    "    SPACE = 64 # token that contains a space"
   ]
  },
  {
   "cell_type": "markdown",
   "id": "5fd149b9",
   "metadata": {},
   "source": [
    "This class allows us to record information not only about stress but also about token type (syllabic, containing spaces, containing punctuation, etc.).\n",
    "\n",
    "Note that each constant in `Scansion` has both a name and an associated integer value. For example, `Scansion.SYL`, which represents a token that is syllabic (i.e. a word token), has the value `1`. Meanwhile, `Scansion.STR`, which represents a token that is stressed, has the value `2`."
   ]
  },
  {
   "cell_type": "code",
   "execution_count": 25,
   "id": "43511abc",
   "metadata": {},
   "outputs": [
    {
     "name": "stdout",
     "output_type": "stream",
     "text": [
      "Scansion.SYL: 1 (1 in binary)\n",
      "Scansion.STR: 2 (10 in binary)\n"
     ]
    }
   ],
   "source": [
    "print(f'Scansion.SYL: {Scansion.SYL} ({bin(Scansion.SYL)[2:]} in binary)')\n",
    "print(f'Scansion.STR: {Scansion.STR} ({bin(Scansion.STR)[2:]} in binary)')"
   ]
  },
  {
   "cell_type": "markdown",
   "id": "bc8d1ca6",
   "metadata": {},
   "source": [
    "As the name `IntFlag` implies, we can combine these constants with bitwise operations. For example, using the bitwise operator `|`, we can combine the constants `Scansion.SYL` and `Scansion.STR` into a new `Scansion` value that denotes that a token is both syllabic and stressed. Note how the resultant value `3` is created by combining the individual bits of the component constants."
   ]
  },
  {
   "cell_type": "code",
   "execution_count": 26,
   "id": "3265aabc",
   "metadata": {},
   "outputs": [
    {
     "name": "stdout",
     "output_type": "stream",
     "text": [
      "Scansion.SYL | Scansion.STR: 3 (11 in binary)\n"
     ]
    }
   ],
   "source": [
    "print(f'Scansion.SYL | Scansion.STR: {Scansion.SYL | Scansion.STR} ({bin(Scansion.SYL | Scansion.STR)[2:]} in binary)')"
   ]
  },
  {
   "cell_type": "markdown",
   "id": "7dac40a4",
   "metadata": {},
   "source": [
    "Having defined our `Scansion` constants, we can use the following functions to parse the raw scan marks for each token and determine the corresponding `Scansion` value."
   ]
  },
  {
   "cell_type": "code",
   "execution_count": 27,
   "id": "40420e6f",
   "metadata": {
    "tags": [
     "hide-input"
    ]
   },
   "outputs": [],
   "source": [
    "def scan_token(token, scanmarks, nonwordchars):\n",
    "    scansion = Scansion.UNSPEC # unspecified value by default\n",
    "    if re.search(nonwordchars, token):\n",
    "        # token is non-syllabic\n",
    "        if re.search(r'[^\\w\\s]', token):\n",
    "            scansion |= Scansion.PUNCT # token contains punctuation\n",
    "        if token == '-':\n",
    "            scansion |= Scansion.HYPHEN # token is a single hyphen\n",
    "        if ' ' in token:\n",
    "            scansion |= Scansion.SPACE # token contains a space\n",
    "    else:\n",
    "        # token is syllabic\n",
    "        scansion |= Scansion.SYL\n",
    "        if ',' in scanmarks:\n",
    "            scansion |= Scansion.STR # token is stressed\n",
    "        if '?' in scanmarks:\n",
    "            scansion |= Scansion.FLEX_MINUS # token stress belongs to flex_minus category\n",
    "        if '+' in scanmarks:\n",
    "            scansion |= Scansion.FLEX_PLUS # token stress belongs to flex_plus category\n",
    "    return scansion\n",
    "\n",
    "def scan_tokens(texts, raw_scansions, nonwordchars):\n",
    "    scansions = []\n",
    "    for sonnet, raw_sonnetscan in zip(texts, raw_scansions):\n",
    "        sonnetscan = []\n",
    "        for line, raw_linescan in zip(sonnet, raw_sonnetscan):\n",
    "            linescan = []\n",
    "            for i, foot in enumerate(line):\n",
    "                footscan = []\n",
    "                raw_footscan = raw_linescan[i]\n",
    "                start = 0\n",
    "                for token in foot:\n",
    "                    end = start + len(token)\n",
    "                    footscan.append(scan_token(token, raw_footscan[start:end], nonwordchars))\n",
    "                    start = end\n",
    "                linescan.append(footscan)\n",
    "            sonnetscan.append(linescan)\n",
    "        scansions.append(sonnetscan)\n",
    "    return scansions"
   ]
  },
  {
   "cell_type": "markdown",
   "id": "51d13b74",
   "metadata": {},
   "source": [
    "We store our custom `Scansion` data in the new variable `scansions`."
   ]
  },
  {
   "cell_type": "code",
   "execution_count": 28,
   "id": "0fa324b3",
   "metadata": {},
   "outputs": [],
   "source": [
    "scansions = scan_tokens(texts, raw_scansions, nonwordchars)"
   ]
  },
  {
   "cell_type": "markdown",
   "id": "d01f0131",
   "metadata": {},
   "source": [
    "This new variable `scansions` has a four-dimensional structure identical to that of `texts`, except that the lowest level encodes `Scansion` values instead of tokens. The diagram below illustrates what this looks like. (The values in parentheses are the numerical values of the `Scansion` flags.)\n",
    "\n",
    "![](diagrams/diagram_scansion_final.png)"
   ]
  },
  {
   "cell_type": "markdown",
   "id": "63c93d6a",
   "metadata": {},
   "source": [
    "We run a quick sanity test to make sure that every token in `text` now has corresponding information in `scansion`."
   ]
  },
  {
   "cell_type": "code",
   "execution_count": 29,
   "id": "f1464cd9",
   "metadata": {},
   "outputs": [],
   "source": [
    "# sanity test\n",
    "for sonnet, sonnetscan in zip(texts, scansions):\n",
    "    assert(len(sonnet) == len(sonnetscan))\n",
    "    for line, linescan in zip(sonnet, sonnetscan):\n",
    "        assert(len(line) == len(linescan))\n",
    "        for foot, footscan in zip(line, linescan):\n",
    "            assert(len(foot) == len(footscan))"
   ]
  },
  {
   "cell_type": "markdown",
   "id": "4c67134c",
   "metadata": {},
   "source": [
    "Finally, we save the parsed `texts` and `scansions` data to files called `parsed_texts.txt` and `parsed_scansions.txt`, respectively. For convenient storage, we convert the scansion data into integers and encode both `texts` and `scansions` into the JSON format."
   ]
  },
  {
   "cell_type": "code",
   "execution_count": 30,
   "id": "7a1e844f",
   "metadata": {},
   "outputs": [],
   "source": [
    "# convert Scansion values into integers for storage\n",
    "scansions = [[[[\n",
    "    scansion.value for scansion in foot\n",
    "] for foot in line] for line in sonnet] for sonnet in scansions]\n",
    "\n",
    "with open('corpus/parsed_texts.txt', 'w') as f:\n",
    "    f.write(json.dumps(texts))\n",
    "with open('corpus/parsed_scansions.txt', 'w') as f:\n",
    "    f.write(json.dumps(scansions))"
   ]
  },
  {
   "cell_type": "markdown",
   "id": "f29fa06c",
   "metadata": {},
   "source": [
    "## Analyzing the Corpus"
   ]
  },
  {
   "cell_type": "markdown",
   "id": "23da88ca",
   "metadata": {},
   "source": [
    "We now have a parsed corpus of Shakespeare's sonnets with efficiently encoded scansion data that can be used for various types of automated analysis. We conclude with a few examples of the kinds of analysis that can be conducted on this corpus.\n",
    "\n",
    "### Setup\n",
    "\n",
    "First, we demonstrate how to read the data stored in `parsed_texts.txt` and `parsed_scansions.txt` back into the `texts` and `scansions` variables, respectively. For the scansion data, we also convert the integers back into the `Scansion` data type for more convenient analysis."
   ]
  },
  {
   "cell_type": "code",
   "execution_count": 31,
   "id": "4eaff0aa",
   "metadata": {},
   "outputs": [],
   "source": [
    "with open('corpus/parsed_texts.txt', 'r') as f:\n",
    "    texts = json.load(f)\n",
    "with open('corpus/parsed_scansions.txt', 'r') as f:\n",
    "    scansions = json.load(f)\n",
    "    \n",
    "# convert scansion integer values back into Scansion values\n",
    "scansions = [[[[\n",
    "    Scansion(token) for token in foot\n",
    "] for foot in line] for line in sonnet] for sonnet in scansions]"
   ]
  },
  {
   "cell_type": "markdown",
   "id": "1453c870",
   "metadata": {},
   "source": [
    "Next, we define some variables and functions that we can use to determine the type (iamb, trochee, etc.) of each metrical foot by parsing the corresponding `scansions` data. By default, these functions automatically coerce any feet containing syllables marked as prosodically flexible into regular disyallabic feet if it is possible to do so.\n",
    "\n",
    "We also define convenience functions for displaying the corpus and analysis results."
   ]
  },
  {
   "cell_type": "code",
   "execution_count": 32,
   "id": "a82116ac",
   "metadata": {
    "tags": [
     "hide-input"
    ]
   },
   "outputs": [],
   "source": [
    "# maps patterns of stresses to foot types\n",
    "FEET = {\n",
    "    (0,0) : 'pyrrhic',\n",
    "    (0,1) : 'iamb',\n",
    "    (1,0) : 'trochee',\n",
    "    (1,1) : 'spondee',\n",
    "    (0,0,0) : 'tribrach',\n",
    "    (1,0,0) : 'dactyl',\n",
    "    (0,1,0) : 'amphibrach',\n",
    "    (0,0,1) : 'anapest',\n",
    "    (0,1,1) : 'bacchius',\n",
    "    (0,0,1) : 'antibacchius',\n",
    "    (0,1,0) : 'cretic',\n",
    "    (1,1,1) : 'molossus',\n",
    "}\n",
    "\n",
    "# list of all foot types\n",
    "FOOT_TYPES = ['iamb', 'trochee', 'spondee', 'pyrrhic', 'cretic',\n",
    "       'unknown (4 syllables)', 'unknown (3 syllables)', 'antibacchius',\n",
    "       'dactyl']\n",
    "\n",
    "# list of all disyllabic foot types\n",
    "FOOT_TYPES_DISYL = ['iamb', 'trochee', 'spondee', 'pyrrhic']\n",
    "\n",
    "# get all word tokens from a given foot\n",
    "def get_word_tokens(scansion, text = None):\n",
    "    f = []\n",
    "    s = []\n",
    "    for i, token in enumerate(scansion):\n",
    "        if Scansion.SYL in token:\n",
    "            s.append(token)\n",
    "            if text != None:\n",
    "                f.append(text[i])\n",
    "    return (s, f)\n",
    "\n",
    "# parse the scansion of a word token (possibly including flexible stresses)\n",
    "# use_flex indicates whether flexible stresses should be used\n",
    "# to coerce a short or long foot into a regular-length foot\n",
    "def parse_word_scansion(scansion, use_flex = True):\n",
    "    word_tokens = get_word_tokens(scansion)[0]\n",
    "    n = len(word_tokens)\n",
    "    if n == 2 or not use_flex:\n",
    "        return word_tokens\n",
    "    final_scansion = []\n",
    "    for token in word_tokens:\n",
    "        if Scansion.FLEX_MINUS in token and n > 2:\n",
    "            # decrement n by treating this token as flexible\n",
    "            # merge this syllable with the preceding/following one by refraining from including it\n",
    "            n -= 1\n",
    "        else:\n",
    "            if Scansion.FLEX_PLUS in token and n < 2:\n",
    "                # increment n by treating this token as flexible\n",
    "                # split apart this syllable into two\n",
    "                final_scansion.append(Scansion.SYL)\n",
    "                n += 1\n",
    "            final_scansion.append(token)\n",
    "    return final_scansion\n",
    "\n",
    "# classify a foot as one of the possible types (iamb, trochee, etc.)\n",
    "def classify_foot(scansion, use_flex = True):\n",
    "    pattern = tuple(((1 if Scansion.STR in x else 0) for x in parse_word_scansion(scansion, use_flex)))\n",
    "    if pattern in FEET:\n",
    "        return FEET[pattern]\n",
    "    else:\n",
    "        return f'unknown ({len(pattern)} syllables)'\n",
    "\n",
    "# format a p-value and indicate whether or not it is significant\n",
    "# based on the provided sigbound (significance boundary)\n",
    "def display_pval(pval, label, sigbound = 0.05):\n",
    "    return f'{label}: p-value = {pval:.2f} ({\"not \" if pval > sigbound else \"\"}significant)'\n",
    "\n",
    "def foot_to_str(foot):\n",
    "    return ''.join(foot)\n",
    "\n",
    "def display_sonnet(text, scansion, start=0, end=14):\n",
    "    df = None\n",
    "    for s, t in zip(scansion[start:end], text[start:end]):\n",
    "        tmp = pd.DataFrame([\n",
    "            [classify_foot(f).upper() for f in s],\n",
    "            [foot_to_str(f) for f in t],\n",
    "        ])\n",
    "        df = pd.concat([df, tmp]) if df is not None else tmp\n",
    "    return df"
   ]
  },
  {
   "cell_type": "markdown",
   "id": "f0a90c39",
   "metadata": {},
   "source": [
    "For example, here is the end of Sonnet 116 with annotations indicating type of each foot:"
   ]
  },
  {
   "cell_type": "code",
   "execution_count": 33,
   "id": "f6037ea4",
   "metadata": {},
   "outputs": [
    {
     "data": {
      "text/html": [
       "<table border=\"1\" class=\"dataframe\">\n",
       "  <tbody>\n",
       "    <tr>\n",
       "      <td>SPONDEE</td>\n",
       "      <td>SPONDEE</td>\n",
       "      <td>IAMB</td>\n",
       "      <td>IAMB</td>\n",
       "      <td>IAMB</td>\n",
       "    </tr>\n",
       "    <tr>\n",
       "      <td>Love's not</td>\n",
       "      <td>Time's fool,</td>\n",
       "      <td>though ros</td>\n",
       "      <td>y lips</td>\n",
       "      <td>and cheeks</td>\n",
       "    </tr>\n",
       "    <tr>\n",
       "      <td>IAMB</td>\n",
       "      <td>IAMB</td>\n",
       "      <td>IAMB</td>\n",
       "      <td>IAMB</td>\n",
       "      <td>IAMB</td>\n",
       "    </tr>\n",
       "    <tr>\n",
       "      <td>Within</td>\n",
       "      <td>his bend</td>\n",
       "      <td>ing sick</td>\n",
       "      <td>le's comp</td>\n",
       "      <td>ass come;</td>\n",
       "    </tr>\n",
       "    <tr>\n",
       "      <td>IAMB</td>\n",
       "      <td>IAMB</td>\n",
       "      <td>PYRRHIC</td>\n",
       "      <td>SPONDEE</td>\n",
       "      <td>IAMB</td>\n",
       "    </tr>\n",
       "    <tr>\n",
       "      <td>Love alt</td>\n",
       "      <td>ers not</td>\n",
       "      <td>with his</td>\n",
       "      <td>brief hours</td>\n",
       "      <td>and weeks,</td>\n",
       "    </tr>\n",
       "    <tr>\n",
       "      <td>IAMB</td>\n",
       "      <td>IAMB</td>\n",
       "      <td>TROCHEE</td>\n",
       "      <td>IAMB</td>\n",
       "      <td>IAMB</td>\n",
       "    </tr>\n",
       "    <tr>\n",
       "      <td>But bears</td>\n",
       "      <td>it out</td>\n",
       "      <td>even to</td>\n",
       "      <td>the edge</td>\n",
       "      <td>of doom.</td>\n",
       "    </tr>\n",
       "    <tr>\n",
       "      <td>IAMB</td>\n",
       "      <td>IAMB</td>\n",
       "      <td>IAMB</td>\n",
       "      <td>IAMB</td>\n",
       "      <td>IAMB</td>\n",
       "    </tr>\n",
       "    <tr>\n",
       "      <td>If this</td>\n",
       "      <td>be er</td>\n",
       "      <td>ror and</td>\n",
       "      <td>upon</td>\n",
       "      <td>me proved,</td>\n",
       "    </tr>\n",
       "    <tr>\n",
       "      <td>IAMB</td>\n",
       "      <td>IAMB</td>\n",
       "      <td>IAMB</td>\n",
       "      <td>IAMB</td>\n",
       "      <td>IAMB</td>\n",
       "    </tr>\n",
       "    <tr>\n",
       "      <td>I nev</td>\n",
       "      <td>er writ,</td>\n",
       "      <td>nor no</td>\n",
       "      <td>man ev</td>\n",
       "      <td>er loved.</td>\n",
       "    </tr>\n",
       "  </tbody>\n",
       "</table>"
      ],
      "text/plain": [
       "<IPython.core.display.HTML object>"
      ]
     },
     "metadata": {},
     "output_type": "display_data"
    }
   ],
   "source": [
    "excerpt = display_sonnet(texts[115], scansions[115], start=8, end=14)\n",
    "display(HTML(excerpt.to_html(header=False, index=False)))"
   ]
  },
  {
   "cell_type": "markdown",
   "id": "cb222b8e",
   "metadata": {},
   "source": [
    "We are now ready to offer a few examples of what analysis of this corpus can look like.\n",
    "\n",
    "### Foot Types per Index\n",
    "\n",
    "First, we will analyze whether there are any patterns in which types of feet appear in which indices (that is, positions) in each line. Our hypothesis is that there is a difference. For example, perhaps trochaic substitution is more likely to occur in the first foot than in the last foot of a line.\n",
    "\n",
    "We begin by defining a function that will count how many of each foot type appear at each foot position in the  corpus."
   ]
  },
  {
   "cell_type": "code",
   "execution_count": 34,
   "id": "3f05ee5c",
   "metadata": {},
   "outputs": [],
   "source": [
    "def count_foot_types_per_foot_index(scansions):\n",
    "    counts = {f: [0 for i in range(5)] for f in FOOT_TYPES}\n",
    "    for sonnet in scansions:\n",
    "        for line in sonnet:\n",
    "            for i, foot in enumerate(line):\n",
    "                ft = classify_foot(foot)\n",
    "                counts[ft][i] += 1\n",
    "    return counts"
   ]
  },
  {
   "cell_type": "markdown",
   "id": "82a239e5",
   "metadata": {},
   "source": [
    "Here are the results in table form:"
   ]
  },
  {
   "cell_type": "code",
   "execution_count": 35,
   "id": "ce454fa6",
   "metadata": {},
   "outputs": [
    {
     "data": {
      "text/html": [
       "<table border=\"1\" class=\"dataframe\">\n",
       "  <thead>\n",
       "    <tr style=\"text-align: right;\">\n",
       "      <th>foot #</th>\n",
       "      <th>iamb</th>\n",
       "      <th>trochee</th>\n",
       "      <th>spondee</th>\n",
       "      <th>pyrrhic</th>\n",
       "      <th>cretic</th>\n",
       "      <th>unknown (4 syllables)</th>\n",
       "      <th>unknown (3 syllables)</th>\n",
       "      <th>antibacchius</th>\n",
       "      <th>dactyl</th>\n",
       "    </tr>\n",
       "  </thead>\n",
       "  <tbody>\n",
       "    <tr>\n",
       "      <td>1</td>\n",
       "      <td>1736</td>\n",
       "      <td>268</td>\n",
       "      <td>81</td>\n",
       "      <td>61</td>\n",
       "      <td>2</td>\n",
       "      <td>0</td>\n",
       "      <td>0</td>\n",
       "      <td>3</td>\n",
       "      <td>3</td>\n",
       "    </tr>\n",
       "    <tr>\n",
       "      <td>2</td>\n",
       "      <td>1853</td>\n",
       "      <td>29</td>\n",
       "      <td>231</td>\n",
       "      <td>38</td>\n",
       "      <td>0</td>\n",
       "      <td>0</td>\n",
       "      <td>0</td>\n",
       "      <td>3</td>\n",
       "      <td>0</td>\n",
       "    </tr>\n",
       "    <tr>\n",
       "      <td>3</td>\n",
       "      <td>1850</td>\n",
       "      <td>91</td>\n",
       "      <td>95</td>\n",
       "      <td>114</td>\n",
       "      <td>1</td>\n",
       "      <td>0</td>\n",
       "      <td>0</td>\n",
       "      <td>2</td>\n",
       "      <td>1</td>\n",
       "    </tr>\n",
       "    <tr>\n",
       "      <td>4</td>\n",
       "      <td>1873</td>\n",
       "      <td>57</td>\n",
       "      <td>130</td>\n",
       "      <td>85</td>\n",
       "      <td>3</td>\n",
       "      <td>0</td>\n",
       "      <td>0</td>\n",
       "      <td>5</td>\n",
       "      <td>1</td>\n",
       "    </tr>\n",
       "    <tr>\n",
       "      <td>5</td>\n",
       "      <td>1829</td>\n",
       "      <td>15</td>\n",
       "      <td>132</td>\n",
       "      <td>18</td>\n",
       "      <td>126</td>\n",
       "      <td>1</td>\n",
       "      <td>12</td>\n",
       "      <td>6</td>\n",
       "      <td>1</td>\n",
       "    </tr>\n",
       "  </tbody>\n",
       "</table>"
      ],
      "text/plain": [
       "<IPython.core.display.HTML object>"
      ]
     },
     "metadata": {},
     "output_type": "display_data"
    }
   ],
   "source": [
    "fc_per_index = pd.DataFrame.from_dict(\n",
    "    count_foot_types_per_foot_index(scansions),\n",
    "    orient='columns'\n",
    ").reset_index(names='foot #')\n",
    "fc_per_index['foot #'] += 1\n",
    "display(HTML(fc_per_index.to_html(index=False)))"
   ]
  },
  {
   "cell_type": "markdown",
   "id": "3b0357ec",
   "metadata": {},
   "source": [
    "Since the counts for foot types of more than two syllables are so low, we will restrict our analysis to the disyllabic foot types (iambs, trochees, spondees, and pyrrhics).\n",
    "\n",
    "These results show that, as we hypothesized, trochees are most likely to occur in the first foot and least likely to occur in the last. Iambs, meanwhile, are most likely to occur in the fourth foot and least likely to occur in the first. \n",
    "\n",
    "However, it is unclear whether any of these differences are significant. To determine this, we can use a chi-squared independence test to test whether the foot type is independent from the foot index. Our null hypothesis is that these variables are independent."
   ]
  },
  {
   "cell_type": "code",
   "execution_count": 36,
   "id": "a48b18e8",
   "metadata": {},
   "outputs": [
    {
     "name": "stdout",
     "output_type": "stream",
     "text": [
      "Chi-squared independence test for all disyllabic feet: p-value = 0.00 (significant)\n"
     ]
    }
   ],
   "source": [
    "pval = chi2_contingency(fc_per_index[FOOT_TYPES_DISYL]).pvalue\n",
    "print(display_pval(pval, 'Chi-squared independence test for all disyllabic feet'))"
   ]
  },
  {
   "cell_type": "markdown",
   "id": "fb1f0ded",
   "metadata": {},
   "source": [
    "As we can see, we have sufficient evidence to reject the null hypothesis and conclude that the foot type depends to at least some degree on the foot index. In other words, certain types of feet are more likely to occur at certain positions in a line than at others.\n",
    "\n",
    "However, is this true for all foot types, or merely for some of them? We can determine this using a chi-squared goodness-of-fit test for each foot type. For each foot type, the null hypothesis is that there is no difference between the frequencies of that foot type in each position (or, in other words, that the given foot type is equally likely to occur in one foot position as in another)."
   ]
  },
  {
   "cell_type": "code",
   "execution_count": 37,
   "id": "ca3ba8f7",
   "metadata": {},
   "outputs": [
    {
     "name": "stdout",
     "output_type": "stream",
     "text": [
      "Chi-squared goodness-of-fit tests for individual foot types:\n",
      "  * For iambs: p-value = 0.17 (not significant)\n",
      "  * For trochees: p-value = 0.00 (significant)\n",
      "  * For spondees: p-value = 0.00 (significant)\n",
      "  * For pyrrhics: p-value = 0.00 (significant)\n"
     ]
    }
   ],
   "source": [
    "print('Chi-squared goodness-of-fit tests for individual foot types:')\n",
    "for ft in FOOT_TYPES_DISYL:\n",
    "    pval = chisquare(fc_per_index[ft].values).pvalue\n",
    "    print(display_pval(pval, f'  * For {ft}s'))"
   ]
  },
  {
   "cell_type": "markdown",
   "id": "38e049fc",
   "metadata": {},
   "source": [
    "Based on these test results, we conclude that there is no real difference between the frequencies of iambs in different foot positions. That is, iambs are no more likely to occur in one foot position than in another.\n",
    "\n",
    "However, we also conclude that there is a statistically significant difference between at least some of the frequencies of the other disyllabic foot types. In other words, trochees, spondees, and pyrrhics are more likely to occur in certain foot positions than others. This confirms our hypothesis that trochaic substitutions are more likely to occur in the first foot than, say, in the last.\n",
    "\n",
    "Our observations about the data and its significance can be visually confirmed and extended using a graphical visualization. Using a bar chart, we can plot the differences between frequencies of different foot types in different foot positions:"
   ]
  },
  {
   "cell_type": "code",
   "execution_count": 38,
   "id": "2bbcd976",
   "metadata": {
    "tags": [
     "hide-input",
     "full-width"
    ]
   },
   "outputs": [
    {
     "data": {
      "image/png": "[encoded data removed]",
      "text/plain": [
       "<Figure size 1000x500 with 4 Axes>"
      ]
     },
     "metadata": {},
     "output_type": "display_data"
    }
   ],
   "source": [
    "fig, axes = plt.subplots(2, 2, figsize=(10,5))\n",
    "\n",
    "for ax, ft in zip(axes.flatten(), FOOT_TYPES_DISYL):\n",
    "    getlegend = True if ft == FOOT_TYPES_DISYL[0] else False\n",
    "    sns.barplot(\n",
    "        ax = ax,\n",
    "        data = fc_per_index,\n",
    "        x = 'foot #',\n",
    "        y = ft, \n",
    "        hue = 'foot #',\n",
    "        orient = 'vertical',\n",
    "        legend=getlegend\n",
    "    )\n",
    "    if getlegend:\n",
    "        ax.get_legend().remove()\n",
    "    for container in ax.containers:\n",
    "        ax.bar_label(container)\n",
    "    # modify y-limits of graph to show all labels\n",
    "    ylim = ax.get_ylim()\n",
    "    ax.set_ylim(ylim[0], ylim[1] + (ylim[1] - ylim[0])/10)\n",
    "    ax.set_title(f'{ft.upper()}S', size='medium')\n",
    "    ax.set_ylabel('count')\n",
    "\n",
    "fig.tight_layout()\n",
    "fig.suptitle('Number of Foot Types per Foot Position', y=1.05, size='x-large');\n",
    "fig.legend(title='foot number')\n",
    "sns.move_legend(fig, 'upper left', bbox_to_anchor=(1, 0.95))"
   ]
  },
  {
   "cell_type": "markdown",
   "id": "83891294",
   "metadata": {},
   "source": [
    "This graph confirms our conclusion that the differences between iamb frequencies are not significant, whereas at least some of the differences between the trochee, spondee, and pyrrhic frequencies are significant.\n",
    "\n",
    "Based on visual inspection, we can tentatively conclude the following:\n",
    "* Trochees are most likely to occur in the first foot and least likely to occur in the second and fifth feet.\n",
    "* Spondees are most likely to occur in the second foot and least likely to occur in the first and third feet.\n",
    "* Pyrrhics are most likely to occur in the third foot and least likely to occur in the fifth foot."
   ]
  },
  {
   "cell_type": "markdown",
   "id": "1ddea21b",
   "metadata": {},
   "source": [
    "### Irregularities per Line Number"
   ]
  },
  {
   "cell_type": "markdown",
   "id": "5b89b739",
   "metadata": {},
   "source": [
    "Next, we will analyze whether irregularities are more likely to occur in certain lines of a sonnet than in others. For example, are the concluding lines of quatrains (lines 4, 8, and 12) more or less likely to be irregular than the other lines of those quatrains (lines 1-3, 5-7, and 9-11)?\n",
    "\n",
    "Before we can determine this, however, we must determine what exactly counts as an irregularity. For the purposes of this analysis, we will define an irregular line as a line in which the proportion of iambs is smaller than some boundary proportion $b$. We use proportions rather than counts because not all of the sonnets are in pentameter (specifically, Sonnet 145 is in tetrameter).\n",
    "\n",
    "First, we define functions that will enable us to count how many irregularities occur in each line position in the entire corpus. These functions will take a specific value of $b$ and then calculate the counts of irregularities for each line position based on that value. (These functions also enable us to define a line that is not pentameter as irregular, but we will not be enforcing this distinction in this analysis.)"
   ]
  },
  {
   "cell_type": "code",
   "execution_count": 39,
   "id": "8ace42b9",
   "metadata": {
    "tags": [
     "hide-input"
    ]
   },
   "outputs": [],
   "source": [
    "def count_foot_types_per_line(line, prop = False):\n",
    "    counts = {f: 0 for f in FOOT_TYPES}\n",
    "    n = 0\n",
    "    for i, foot in enumerate(line):\n",
    "        ft = classify_foot(foot)\n",
    "        counts[ft] += 1\n",
    "        n += 1\n",
    "    # adjust counts to be proportions\n",
    "    if prop:\n",
    "        counts = {k: v/n for k,v in counts.items()}\n",
    "    return counts\n",
    "\n",
    "def get_irreg_line_counts(boundary, enforce_pentameter=False):\n",
    "    irreg_line_counts = [0 for i in range(14)]\n",
    "    for sonnet in scansions:\n",
    "        for i, line in enumerate(sonnet):\n",
    "            fp = count_foot_types_per_line(line, prop=True)\n",
    "            if (enforce_pentameter and len(line) < 5) or fp['iamb'] < boundary:\n",
    "                irreg_line_counts[i] += 1\n",
    "    irreg_line_counts = pd.DataFrame(irreg_line_counts, index=[i for i in range(14)], columns=['counts'])\n",
    "    irreg_line_counts['line #'] = irreg_line_counts.index + 1\n",
    "    irreg_line_counts['stanza position'] = irreg_line_counts.index % 4 + 1\n",
    "    return irreg_line_counts"
   ]
  },
  {
   "cell_type": "markdown",
   "id": "d960406f",
   "metadata": {},
   "source": [
    "To get an idea of how the choice of $b$ affects the irregularity counts, we will compare results for four different values of $b$. These values of $b$ will define an irregular line as one in which iambs make up less than $\\frac{2}{5}$, $\\frac{3}{5}$, $\\frac{4}{5}$, and $\\frac{5}{5}$ of the feet in that line, respectively.\n",
    "\n",
    "We then visualize the resulting counts using bar graphs. Each line number has its own bar showing the irregularity count for that position. We also color-code the bars to represent each line's position in its stanza (first, second, third, or fourth line in a quatrain, or first or second line in a couplet)."
   ]
  },
  {
   "cell_type": "code",
   "execution_count": 40,
   "id": "3d6b6b57",
   "metadata": {
    "tags": [
     "hide-input",
     "full-width"
    ]
   },
   "outputs": [
    {
     "data": {
      "image/png": "[encoded data removed]",
      "text/plain": [
       "<Figure size 1000x500 with 4 Axes>"
      ]
     },
     "metadata": {},
     "output_type": "display_data"
    }
   ],
   "source": [
    "enforce_pentameter = False\n",
    "\n",
    "boundaries = [0.4, 0.6, 0.8, 1.0]\n",
    "\n",
    "irreg_tables = []\n",
    "\n",
    "fig, axes = plt.subplots(2, 2, figsize=(10,5))\n",
    "\n",
    "for ax, (i, boundary) in zip(axes.flatten(), enumerate(boundaries)):\n",
    "    irreg_line_counts = get_irreg_line_counts(boundary, enforce_pentameter)\n",
    "    irreg_tables.append(irreg_line_counts)\n",
    "    getlegend = True if boundary == boundaries[0] else False\n",
    "    sns.barplot(\n",
    "        ax = ax,\n",
    "        data = irreg_line_counts,\n",
    "        x = 'line #',\n",
    "        y = 'counts',\n",
    "        hue = 'stanza position',\n",
    "        legend=getlegend,\n",
    "    );\n",
    "    if getlegend:\n",
    "        ax.get_legend().remove()\n",
    "    for container in ax.containers:\n",
    "        ax.bar_label(container)\n",
    "    \n",
    "    # modify y-limits of graph to show all labels\n",
    "    ylim = ax.get_ylim()\n",
    "    ax.set_ylim(ylim[0], ylim[1] + (ylim[1] - ylim[0])/10)\n",
    "    ax.set_title(f'{ft.upper()}S', size='medium')\n",
    "    ax.set_ylabel('count')\n",
    "\n",
    "    ax.set_title(f'Iamb Proportion < {boundary:.1f}')\n",
    "#sns.move_legend(ax, 'upper left', bbox_to_anchor=(1.01, 1.01))\n",
    "fig.tight_layout()\n",
    "fig.suptitle('Number of Irregular Lines per Position', y=1.05, size='x-large')\n",
    "fig.legend(title='stanza position')\n",
    "sns.move_legend(fig, 'upper left', bbox_to_anchor=(1, 0.95))"
   ]
  },
  {
   "cell_type": "markdown",
   "id": "bd273313",
   "metadata": {},
   "source": [
    "As we can see, the counts for $b = 0.4$ and $b = 0.6$ are very small. In other words, there are relatively few lines that fit the definition of irregularity as having a proportion of iambs less than $\\frac{3}{5}$. These counts may be too small for us to conduct statistical analyses, since chi-squared tests generally require a sample size of at least 5 in each category.\n",
    "\n",
    "For each value of $b$, we can check whether the sample size is too small and then run chi-squared independence and goodness-of-fit tests on the corresponding results if it is not:"
   ]
  },
  {
   "cell_type": "code",
   "execution_count": 41,
   "id": "24c2361f",
   "metadata": {
    "scrolled": true
   },
   "outputs": [
    {
     "name": "stdout",
     "output_type": "stream",
     "text": [
      "Statistical Tests for Iamb Proportion < 0.4\n",
      "  * Min sample size: 1 (too small for chi-squared tests)\n",
      "\n",
      "Statistical Tests for Iamb Proportion < 0.6\n",
      "  * Min sample size: 2 (too small for chi-squared tests)\n",
      "\n",
      "Statistical Tests for Iamb Proportion < 0.8\n",
      "  * Min sample size: 22 (large enough for chi-squared tests)\n",
      "  * Chi-squared goodness-of-fit test for counts: p-value = 0.03 (significant)\n",
      "  * Chi-squared independence test for counts and line numbers: p-value = 0.00 (significant)\n",
      "  * Chi-squared independence test for counts and stanza positions: p-value = 0.77 (not significant)\n",
      "\n",
      "Statistical Tests for Iamb Proportion < 1.0\n",
      "  * Min sample size: 58 (large enough for chi-squared tests)\n",
      "  * Chi-squared goodness-of-fit test for counts: p-value = 0.53 (not significant)\n",
      "  * Chi-squared independence test for counts and line numbers: p-value = 0.01 (significant)\n",
      "  * Chi-squared independence test for counts and stanza positions: p-value = 0.89 (not significant)\n",
      "\n"
     ]
    }
   ],
   "source": [
    "for boundary, table in zip(boundaries, irreg_tables):\n",
    "    print(f'Statistical Tests for Iamb Proportion < {boundary:.1f}')\n",
    "    sample_min = table['counts'].min()\n",
    "    print(f'  * Min sample size: {sample_min} (' +\n",
    "          ('too small' if sample_min < 5 else 'large enough') +\n",
    "          ' for chi-squared tests)')\n",
    "    if sample_min >= 5:\n",
    "        print(display_pval(chisquare(table[\"counts\"]).pvalue, '  * Chi-squared goodness-of-fit test for counts'))\n",
    "        print(display_pval(\n",
    "            chi2_contingency(table[[\"counts\", \"line #\"]]).pvalue,\n",
    "            '  * Chi-squared independence test for counts and line numbers'\n",
    "        ))\n",
    "        print(display_pval(\n",
    "            chi2_contingency(table[[\"counts\", \"stanza position\"]]).pvalue,\n",
    "            '  * Chi-squared independence test for counts and stanza positions'\n",
    "        ))\n",
    "    print()"
   ]
  },
  {
   "cell_type": "markdown",
   "id": "5cc45acc",
   "metadata": {},
   "source": [
    "As we suspected, the counts for $b = 0.4$ and $b = 0.6$ are too small for chi-squared tests. However, the counts for $b = 0.8$ and $b = 1$ are large enough, so we were able to run the tests for those values of $b$.\n",
    "\n",
    "When we define irregularity as having a proportion of iambs less than $\\frac{4}/{5}, we find that the differences between counts are statistically significant. We also find that the irregularity counts and line numbers are not independent (though we lack sufficient evidence to conclude that the irregularity counts and stanza positions are also not independent). As a result, we can conclude that some lines in a sonnet are significantly more likely to be irregular than others.\n",
    "\n",
    "When we define irregularity as any line with a foot type other than an iamb ($b = 1$), however, we are much more limited in what we can conclude. This is likely because the counts for the different line numbers are so similar to each other. All that we can conclude is that the irregularity counts are not independent of the line positions.\n",
    "\n",
    "Based on visual inspection of the graph for $b = 0.8$, we can make a few tentative observations (keeping in mind that the observed differences may not all be significant):\n",
    "* The second and third lines of the quatrains are relatively less likely to be irregular.\n",
    "* The last lines of the first and second quatrains are relatively likely to be irregular, but the last line of the third quatrain is not. Perhaps this is because the first line of the third quatrain is also relatively likely to be irregular.\n",
    "* The last line of the concluding couplet is more likely to be irregular than the first line of the couplet."
   ]
  },
  {
   "cell_type": "markdown",
   "id": "6d1953e3",
   "metadata": {},
   "source": [
    "### Consecutive Feet"
   ]
  },
  {
   "cell_type": "markdown",
   "id": "346e41f0",
   "metadata": {},
   "source": [
    "Finally, we will analyze whether certain pairs of consecutive foot types are more likely to occur than others. For example, is a trochee more likely to be followed by an iamb or a spondee? Given the relatively low counts of feet longer than two syllables, we limit our analysis once again to the disyllabic foot types.\n",
    "\n",
    "For all foot types $x, y$ in the set of disyllabic foot types, we count the number of occurrences of the pair $(x, y)$ in the corpus. (Note that $x$ can be equal to $y$.) The results are shown in the table below:"
   ]
  },
  {
   "cell_type": "code",
   "execution_count": 42,
   "id": "496b9fae",
   "metadata": {},
   "outputs": [
    {
     "data": {
      "text/html": [
       "<div>\n",
       "<style scoped>\n",
       "    .dataframe tbody tr th:only-of-type {\n",
       "        vertical-align: middle;\n",
       "    }\n",
       "\n",
       "    .dataframe tbody tr th {\n",
       "        vertical-align: top;\n",
       "    }\n",
       "\n",
       "    .dataframe thead th {\n",
       "        text-align: right;\n",
       "    }\n",
       "</style>\n",
       "<table border=\"1\" class=\"dataframe\">\n",
       "  <thead>\n",
       "    <tr style=\"text-align: right;\">\n",
       "      <th></th>\n",
       "      <th>iamb</th>\n",
       "      <th>trochee</th>\n",
       "      <th>spondee</th>\n",
       "      <th>pyrrhic</th>\n",
       "    </tr>\n",
       "  </thead>\n",
       "  <tbody>\n",
       "    <tr>\n",
       "      <th>iamb</th>\n",
       "      <td>6540.0</td>\n",
       "      <td>113.0</td>\n",
       "      <td>341.0</td>\n",
       "      <td>169.0</td>\n",
       "    </tr>\n",
       "    <tr>\n",
       "      <th>trochee</th>\n",
       "      <td>353.0</td>\n",
       "      <td>42.0</td>\n",
       "      <td>39.0</td>\n",
       "      <td>3.0</td>\n",
       "    </tr>\n",
       "    <tr>\n",
       "      <th>spondee</th>\n",
       "      <td>386.0</td>\n",
       "      <td>28.0</td>\n",
       "      <td>36.0</td>\n",
       "      <td>74.0</td>\n",
       "    </tr>\n",
       "    <tr>\n",
       "      <th>pyrrhic</th>\n",
       "      <td>107.0</td>\n",
       "      <td>6.0</td>\n",
       "      <td>171.0</td>\n",
       "      <td>9.0</td>\n",
       "    </tr>\n",
       "  </tbody>\n",
       "</table>\n",
       "</div>"
      ],
      "text/plain": [
       "           iamb  trochee  spondee  pyrrhic\n",
       "iamb     6540.0    113.0    341.0    169.0\n",
       "trochee   353.0     42.0     39.0      3.0\n",
       "spondee   386.0     28.0     36.0     74.0\n",
       "pyrrhic   107.0      6.0    171.0      9.0"
      ]
     },
     "execution_count": 42,
     "metadata": {},
     "output_type": "execute_result"
    }
   ],
   "source": [
    "feet_types = FOOT_TYPES_DISYL\n",
    "indices = {x: i for i,x in enumerate(feet_types)}\n",
    "n = len(indices)\n",
    "\n",
    "consec_counts = np.zeros((n,n))\n",
    "for sonnet in scansions:\n",
    "    for line in sonnet:\n",
    "        current_ft = classify_foot(line[0])\n",
    "        for i in range(len(line)-1):\n",
    "            next_ft = classify_foot(line[i+1])\n",
    "            if current_ft in indices and next_ft in indices:\n",
    "                consec_counts[indices[current_ft]][indices[next_ft]] += 1\n",
    "            current_ft = next_ft\n",
    "cc = pd.DataFrame(consec_counts, index=feet_types, columns=feet_types)\n",
    "cc"
   ]
  },
  {
   "cell_type": "markdown",
   "id": "f3375dee",
   "metadata": {},
   "source": [
    "We can use a chi-squared independence test to determine whether these results are statistically significant:"
   ]
  },
  {
   "cell_type": "code",
   "execution_count": 43,
   "id": "1e7b6e50",
   "metadata": {
    "tags": [
     "hide-input"
    ]
   },
   "outputs": [
    {
     "name": "stdout",
     "output_type": "stream",
     "text": [
      "P-value for chi-squared independence test: p-value = 0.00 (significant)\n"
     ]
    }
   ],
   "source": [
    "print(display_pval(chi2_contingency(cc).pvalue, 'P-value for chi-squared independence test'))"
   ]
  },
  {
   "cell_type": "markdown",
   "id": "5683902d",
   "metadata": {},
   "source": [
    "We conclude that the types of the first and second feet in the pairs are not independent. In other words, the type of a given foot depends at least in part on the type of the preceding foot.\n",
    "\n",
    "We can also visualize the counts of foot type pairs using a heatmap:"
   ]
  },
  {
   "cell_type": "code",
   "execution_count": 44,
   "id": "9111c0cb",
   "metadata": {
    "scrolled": false,
    "tags": [
     "hide-input"
    ]
   },
   "outputs": [
    {
     "data": {
      "image/png": "[encoded data removed]",
      "text/plain": [
       "<Figure size 500x500 with 2 Axes>"
      ]
     },
     "metadata": {},
     "output_type": "display_data"
    }
   ],
   "source": [
    "# set up axes\n",
    "fig, ax = plt.subplots(figsize=(5,5))\n",
    "cbar_ax = fig.add_axes([0.95, .15, .04, .68])\n",
    "\n",
    "sns.heatmap(cc, annot=True, fmt='.0f', linewidth=.5, cmap='viridis', vmax=500, ax=ax, cbar_ax=cbar_ax);\n",
    "\n",
    "# set custom vmax label in colormap legend\n",
    "# (based on answer by mburke05 at https://stackoverflow.com/a/37054853, CC BY-SA 3.0 license)\n",
    "original_labels = cbar_ax.get_yticklabels()\n",
    "labels = [x.get_text() for x in original_labels[1:-1]] + [f'{original_labels[-1].get_text()}+']\n",
    "cbar_ax.set_yticks(cbar_ax.get_yticks()[1:]);\n",
    "cbar_ax.set_yticklabels(labels);"
   ]
  },
  {
   "cell_type": "markdown",
   "id": "2b201c13",
   "metadata": {},
   "source": [
    "Based on visual analysis of this heatmap, we can make an interesting observation about the relationship between pyrrhics and other feet. As expected, consecutive feet are far and away most likely to consist of a pair of iambs. Since iambs are the most common foot type, they are the most likely to be the first element of a pair with any other disyllabic foot type. They are also the most likely to be the second element of a pair following a trochee or a spondee. However, they are only second most likely to follow pyrrhics, trailing slightly behind spondees (with 171 (`pyrrhic`, `spondee`) pairs compared to only 107 (`pyrrhic`, `iamb`) pairs). Perhaps this indicates a pattern in English prosody where a pair of unstressed syllables tends to be followed by a pair of stressed syllables."
   ]
  },
  {
   "cell_type": "markdown",
   "id": "f91afbb9",
   "metadata": {},
   "source": [
    "## Conclusion\n",
    "\n",
    "This project has offered a case study of how the corpus of Shakespeare's sonnets can be prepared and parsed into a form that allows for various forms of computationally aided analysis. In doing so, this project has offered both theoretical ideas and practical implementations for how to annotate, encode, and investigate poetic corpora.\n",
    "\n",
    "Through the process of correcting the corpus, I have identified and grappled with various problems such as how to map a prosodic theory onto an actual text, how to standardize scansion marks, and how to handle cases of prosodic flexibility. Through the process of parsing and scanning the corpus, I have learned how to structure and operate on the text and scansion data while prioritizing both efficiency and comprehensibility. Finally, through the process of analyzing the corpus, I have gained insights into the ways that knowledge of poetry paired with computational techniques can reveal intriguing patterns in prosody.\n",
    "\n",
    "This project has raised many interesting questions and made many intriguing observations about Shakespeare's sonnets. Nevertheless, further work is needed to fully explore the possibilities of this sort of computational analysis. For example, the scansion data used in this report includes information about punctuation, yet my analysis did not take this into account. Future research could remedy this omission by investigating questions about how punctuation affects prosodic patterns in poetry. As another example, this report considers Shakespeare's sonnets in isolation rather than situating them in their wider context. It would be interesting to compare patterns in Shakespeare's sonnets to patterns in other sonnet sequences such as Sir Philip Sidney's *Astrophil and Stella* or Edmund Spenser's *Amoretti*.\n",
    "\n",
    "Parts of the process detailed in this report, such as the manual correction of the corpus, may not be easily generalizable to other contexts, since they were tailored so closely to the unique problems presented by this particular corpus. However, some of the other sections of this report may provide valuable ideas and implementations for how to conduct computational analyses on other poetic corpora. In particular, it is my hope that my suggestions regarding the structure and encoding of both text and scansion data may prove useful for other projects."
   ]
  }
 ],
 "metadata": {
  "kernelspec": {
   "display_name": "Python 3 (ipykernel)",
   "language": "python",
   "name": "python3"
  },
  "language_info": {
   "codemirror_mode": {
    "name": "ipython",
    "version": 3
   },
   "file_extension": ".py",
   "mimetype": "text/x-python",
   "name": "python",
   "nbconvert_exporter": "python",
   "pygments_lexer": "ipython3",
   "version": "3.8.16"
  }
 },
 "nbformat": 4,
 "nbformat_minor": 5
}
